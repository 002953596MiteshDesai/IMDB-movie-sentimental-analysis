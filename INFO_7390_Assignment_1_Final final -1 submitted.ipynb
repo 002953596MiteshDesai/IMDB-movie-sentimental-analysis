{
 "cells": [
  {
   "cell_type": "markdown",
   "id": "fb70bdc0",
   "metadata": {
    "id": "fb70bdc0"
   },
   "source": [
    "# Assignment 1 for INFO 7390 submitted by Mitesh Desai NUID 002953596 "
   ]
  },
  {
   "cell_type": "code",
   "execution_count": 1,
   "id": "1eff38a4",
   "metadata": {
    "id": "1eff38a4"
   },
   "outputs": [],
   "source": [
    "import pandas as pd\n",
    "import numpy as np\n",
    "import matplotlib.pyplot as plt\n",
    "import seaborn as sns\n",
    "import math"
   ]
  },
  {
   "cell_type": "code",
   "execution_count": 2,
   "id": "dec5445a",
   "metadata": {
    "id": "dec5445a"
   },
   "outputs": [],
   "source": [
    "from numpy import exp, array, random, dot"
   ]
  },
  {
   "cell_type": "code",
   "execution_count": 3,
   "id": "fc0b1e92",
   "metadata": {},
   "outputs": [],
   "source": [
    "## Using Parkinsons Data Classifcation test set : Courtesy Kaggle.com "
   ]
  },
  {
   "cell_type": "code",
   "execution_count": 4,
   "id": "116e1078",
   "metadata": {
    "id": "116e1078"
   },
   "outputs": [],
   "source": [
    "df = pd.read_csv(\"parkinsons.data\")"
   ]
  },
  {
   "cell_type": "code",
   "execution_count": 5,
   "id": "94503b74",
   "metadata": {
    "colab": {
     "base_uri": "https://localhost:8080/",
     "height": 317
    },
    "id": "94503b74",
    "outputId": "d18a5bbd-5d4d-4828-9f72-765cb04a6d0e"
   },
   "outputs": [
    {
     "name": "stdout",
     "output_type": "stream",
     "text": [
      "(195, 24)\n"
     ]
    },
    {
     "data": {
      "text/html": [
       "<div>\n",
       "<style scoped>\n",
       "    .dataframe tbody tr th:only-of-type {\n",
       "        vertical-align: middle;\n",
       "    }\n",
       "\n",
       "    .dataframe tbody tr th {\n",
       "        vertical-align: top;\n",
       "    }\n",
       "\n",
       "    .dataframe thead th {\n",
       "        text-align: right;\n",
       "    }\n",
       "</style>\n",
       "<table border=\"1\" class=\"dataframe\">\n",
       "  <thead>\n",
       "    <tr style=\"text-align: right;\">\n",
       "      <th></th>\n",
       "      <th>name</th>\n",
       "      <th>MDVP:Fo(Hz)</th>\n",
       "      <th>MDVP:Fhi(Hz)</th>\n",
       "      <th>MDVP:Flo(Hz)</th>\n",
       "      <th>MDVP:Jitter(%)</th>\n",
       "      <th>MDVP:Jitter(Abs)</th>\n",
       "      <th>MDVP:RAP</th>\n",
       "      <th>MDVP:PPQ</th>\n",
       "      <th>Jitter:DDP</th>\n",
       "      <th>MDVP:Shimmer</th>\n",
       "      <th>...</th>\n",
       "      <th>Shimmer:DDA</th>\n",
       "      <th>NHR</th>\n",
       "      <th>HNR</th>\n",
       "      <th>status</th>\n",
       "      <th>RPDE</th>\n",
       "      <th>DFA</th>\n",
       "      <th>spread1</th>\n",
       "      <th>spread2</th>\n",
       "      <th>D2</th>\n",
       "      <th>PPE</th>\n",
       "    </tr>\n",
       "  </thead>\n",
       "  <tbody>\n",
       "    <tr>\n",
       "      <th>0</th>\n",
       "      <td>phon_R01_S01_1</td>\n",
       "      <td>119.992</td>\n",
       "      <td>157.302</td>\n",
       "      <td>74.997</td>\n",
       "      <td>0.00784</td>\n",
       "      <td>0.00007</td>\n",
       "      <td>0.00370</td>\n",
       "      <td>0.00554</td>\n",
       "      <td>0.01109</td>\n",
       "      <td>0.04374</td>\n",
       "      <td>...</td>\n",
       "      <td>0.06545</td>\n",
       "      <td>0.02211</td>\n",
       "      <td>21.033</td>\n",
       "      <td>1</td>\n",
       "      <td>0.414783</td>\n",
       "      <td>0.815285</td>\n",
       "      <td>-4.813031</td>\n",
       "      <td>0.266482</td>\n",
       "      <td>2.301442</td>\n",
       "      <td>0.284654</td>\n",
       "    </tr>\n",
       "    <tr>\n",
       "      <th>1</th>\n",
       "      <td>phon_R01_S01_2</td>\n",
       "      <td>122.400</td>\n",
       "      <td>148.650</td>\n",
       "      <td>113.819</td>\n",
       "      <td>0.00968</td>\n",
       "      <td>0.00008</td>\n",
       "      <td>0.00465</td>\n",
       "      <td>0.00696</td>\n",
       "      <td>0.01394</td>\n",
       "      <td>0.06134</td>\n",
       "      <td>...</td>\n",
       "      <td>0.09403</td>\n",
       "      <td>0.01929</td>\n",
       "      <td>19.085</td>\n",
       "      <td>1</td>\n",
       "      <td>0.458359</td>\n",
       "      <td>0.819521</td>\n",
       "      <td>-4.075192</td>\n",
       "      <td>0.335590</td>\n",
       "      <td>2.486855</td>\n",
       "      <td>0.368674</td>\n",
       "    </tr>\n",
       "    <tr>\n",
       "      <th>2</th>\n",
       "      <td>phon_R01_S01_3</td>\n",
       "      <td>116.682</td>\n",
       "      <td>131.111</td>\n",
       "      <td>111.555</td>\n",
       "      <td>0.01050</td>\n",
       "      <td>0.00009</td>\n",
       "      <td>0.00544</td>\n",
       "      <td>0.00781</td>\n",
       "      <td>0.01633</td>\n",
       "      <td>0.05233</td>\n",
       "      <td>...</td>\n",
       "      <td>0.08270</td>\n",
       "      <td>0.01309</td>\n",
       "      <td>20.651</td>\n",
       "      <td>1</td>\n",
       "      <td>0.429895</td>\n",
       "      <td>0.825288</td>\n",
       "      <td>-4.443179</td>\n",
       "      <td>0.311173</td>\n",
       "      <td>2.342259</td>\n",
       "      <td>0.332634</td>\n",
       "    </tr>\n",
       "    <tr>\n",
       "      <th>3</th>\n",
       "      <td>phon_R01_S01_4</td>\n",
       "      <td>116.676</td>\n",
       "      <td>137.871</td>\n",
       "      <td>111.366</td>\n",
       "      <td>0.00997</td>\n",
       "      <td>0.00009</td>\n",
       "      <td>0.00502</td>\n",
       "      <td>0.00698</td>\n",
       "      <td>0.01505</td>\n",
       "      <td>0.05492</td>\n",
       "      <td>...</td>\n",
       "      <td>0.08771</td>\n",
       "      <td>0.01353</td>\n",
       "      <td>20.644</td>\n",
       "      <td>1</td>\n",
       "      <td>0.434969</td>\n",
       "      <td>0.819235</td>\n",
       "      <td>-4.117501</td>\n",
       "      <td>0.334147</td>\n",
       "      <td>2.405554</td>\n",
       "      <td>0.368975</td>\n",
       "    </tr>\n",
       "    <tr>\n",
       "      <th>4</th>\n",
       "      <td>phon_R01_S01_5</td>\n",
       "      <td>116.014</td>\n",
       "      <td>141.781</td>\n",
       "      <td>110.655</td>\n",
       "      <td>0.01284</td>\n",
       "      <td>0.00011</td>\n",
       "      <td>0.00655</td>\n",
       "      <td>0.00908</td>\n",
       "      <td>0.01966</td>\n",
       "      <td>0.06425</td>\n",
       "      <td>...</td>\n",
       "      <td>0.10470</td>\n",
       "      <td>0.01767</td>\n",
       "      <td>19.649</td>\n",
       "      <td>1</td>\n",
       "      <td>0.417356</td>\n",
       "      <td>0.823484</td>\n",
       "      <td>-3.747787</td>\n",
       "      <td>0.234513</td>\n",
       "      <td>2.332180</td>\n",
       "      <td>0.410335</td>\n",
       "    </tr>\n",
       "  </tbody>\n",
       "</table>\n",
       "<p>5 rows × 24 columns</p>\n",
       "</div>"
      ],
      "text/plain": [
       "             name  MDVP:Fo(Hz)  MDVP:Fhi(Hz)  MDVP:Flo(Hz)  MDVP:Jitter(%)  \\\n",
       "0  phon_R01_S01_1      119.992       157.302        74.997         0.00784   \n",
       "1  phon_R01_S01_2      122.400       148.650       113.819         0.00968   \n",
       "2  phon_R01_S01_3      116.682       131.111       111.555         0.01050   \n",
       "3  phon_R01_S01_4      116.676       137.871       111.366         0.00997   \n",
       "4  phon_R01_S01_5      116.014       141.781       110.655         0.01284   \n",
       "\n",
       "   MDVP:Jitter(Abs)  MDVP:RAP  MDVP:PPQ  Jitter:DDP  MDVP:Shimmer  ...  \\\n",
       "0           0.00007   0.00370   0.00554     0.01109       0.04374  ...   \n",
       "1           0.00008   0.00465   0.00696     0.01394       0.06134  ...   \n",
       "2           0.00009   0.00544   0.00781     0.01633       0.05233  ...   \n",
       "3           0.00009   0.00502   0.00698     0.01505       0.05492  ...   \n",
       "4           0.00011   0.00655   0.00908     0.01966       0.06425  ...   \n",
       "\n",
       "   Shimmer:DDA      NHR     HNR  status      RPDE       DFA   spread1  \\\n",
       "0      0.06545  0.02211  21.033       1  0.414783  0.815285 -4.813031   \n",
       "1      0.09403  0.01929  19.085       1  0.458359  0.819521 -4.075192   \n",
       "2      0.08270  0.01309  20.651       1  0.429895  0.825288 -4.443179   \n",
       "3      0.08771  0.01353  20.644       1  0.434969  0.819235 -4.117501   \n",
       "4      0.10470  0.01767  19.649       1  0.417356  0.823484 -3.747787   \n",
       "\n",
       "    spread2        D2       PPE  \n",
       "0  0.266482  2.301442  0.284654  \n",
       "1  0.335590  2.486855  0.368674  \n",
       "2  0.311173  2.342259  0.332634  \n",
       "3  0.334147  2.405554  0.368975  \n",
       "4  0.234513  2.332180  0.410335  \n",
       "\n",
       "[5 rows x 24 columns]"
      ]
     },
     "execution_count": 5,
     "metadata": {},
     "output_type": "execute_result"
    }
   ],
   "source": [
    "print(df.shape)\n",
    "df.head(5)"
   ]
  },
  {
   "cell_type": "code",
   "execution_count": 6,
   "id": "7ab3cf57",
   "metadata": {
    "colab": {
     "base_uri": "https://localhost:8080/"
    },
    "id": "7ab3cf57",
    "outputId": "fd75333c-de50-4044-c49b-ec9d5b014e27"
   },
   "outputs": [
    {
     "name": "stdout",
     "output_type": "stream",
     "text": [
      "<class 'pandas.core.frame.DataFrame'>\n",
      "RangeIndex: 195 entries, 0 to 194\n",
      "Data columns (total 24 columns):\n",
      " #   Column            Non-Null Count  Dtype  \n",
      "---  ------            --------------  -----  \n",
      " 0   name              195 non-null    object \n",
      " 1   MDVP:Fo(Hz)       195 non-null    float64\n",
      " 2   MDVP:Fhi(Hz)      195 non-null    float64\n",
      " 3   MDVP:Flo(Hz)      195 non-null    float64\n",
      " 4   MDVP:Jitter(%)    195 non-null    float64\n",
      " 5   MDVP:Jitter(Abs)  195 non-null    float64\n",
      " 6   MDVP:RAP          195 non-null    float64\n",
      " 7   MDVP:PPQ          195 non-null    float64\n",
      " 8   Jitter:DDP        195 non-null    float64\n",
      " 9   MDVP:Shimmer      195 non-null    float64\n",
      " 10  MDVP:Shimmer(dB)  195 non-null    float64\n",
      " 11  Shimmer:APQ3      195 non-null    float64\n",
      " 12  Shimmer:APQ5      195 non-null    float64\n",
      " 13  MDVP:APQ          195 non-null    float64\n",
      " 14  Shimmer:DDA       195 non-null    float64\n",
      " 15  NHR               195 non-null    float64\n",
      " 16  HNR               195 non-null    float64\n",
      " 17  status            195 non-null    int64  \n",
      " 18  RPDE              195 non-null    float64\n",
      " 19  DFA               195 non-null    float64\n",
      " 20  spread1           195 non-null    float64\n",
      " 21  spread2           195 non-null    float64\n",
      " 22  D2                195 non-null    float64\n",
      " 23  PPE               195 non-null    float64\n",
      "dtypes: float64(22), int64(1), object(1)\n",
      "memory usage: 36.7+ KB\n"
     ]
    }
   ],
   "source": [
    "df.info()"
   ]
  },
  {
   "cell_type": "code",
   "execution_count": 7,
   "id": "32cdd6d5",
   "metadata": {},
   "outputs": [],
   "source": [
    "## Checking for null values "
   ]
  },
  {
   "cell_type": "code",
   "execution_count": 8,
   "id": "75d6a58b",
   "metadata": {
    "colab": {
     "base_uri": "https://localhost:8080/",
     "height": 642
    },
    "id": "75d6a58b",
    "outputId": "11dc5a95-288d-4da4-ab52-43b9dc1dde21"
   },
   "outputs": [
    {
     "data": {
      "text/plain": [
       "<AxesSubplot:xlabel='Percent missing', ylabel='Feature'>"
      ]
     },
     "execution_count": 8,
     "metadata": {},
     "output_type": "execute_result"
    },
    {
     "data": {
      "image/png": "[encoded data removed]",
      "text/plain": [
       "<Figure size 576x720 with 1 Axes>"
      ]
     },
     "metadata": {
      "needs_background": "light"
     },
     "output_type": "display_data"
    }
   ],
   "source": [
    "'''Calculate percentage null values for each column or feature'''\n",
    "\n",
    "null_vals = df.isnull().sum()/len(df)*100\n",
    "null_vals = pd.DataFrame(null_vals)\n",
    "null_vals.reset_index(inplace = True)\n",
    "null_vals.columns = [\"Feature\",\"Percent missing\"]\n",
    "plt.figure(figsize = (8,10))\n",
    "plt.xticks(rotation=45)\n",
    "sns.barplot(x = \"Percent missing\",y =\"Feature\",data = null_vals,orient = \"h\")"
   ]
  },
  {
   "cell_type": "code",
   "execution_count": 9,
   "id": "ec0e045e",
   "metadata": {},
   "outputs": [],
   "source": [
    "## Dropping insigificant & out of scale columns "
   ]
  },
  {
   "cell_type": "code",
   "execution_count": 10,
   "id": "ae415afb",
   "metadata": {
    "colab": {
     "base_uri": "https://localhost:8080/",
     "height": 223
    },
    "id": "ae415afb",
    "outputId": "79db118c-3e2f-464a-cf20-6d6ea6925417"
   },
   "outputs": [
    {
     "name": "stdout",
     "output_type": "stream",
     "text": [
      "(195, 20)\n"
     ]
    },
    {
     "data": {
      "text/html": [
       "<div>\n",
       "<style scoped>\n",
       "    .dataframe tbody tr th:only-of-type {\n",
       "        vertical-align: middle;\n",
       "    }\n",
       "\n",
       "    .dataframe tbody tr th {\n",
       "        vertical-align: top;\n",
       "    }\n",
       "\n",
       "    .dataframe thead th {\n",
       "        text-align: right;\n",
       "    }\n",
       "</style>\n",
       "<table border=\"1\" class=\"dataframe\">\n",
       "  <thead>\n",
       "    <tr style=\"text-align: right;\">\n",
       "      <th></th>\n",
       "      <th>MDVP:Jitter(%)</th>\n",
       "      <th>MDVP:Jitter(Abs)</th>\n",
       "      <th>MDVP:RAP</th>\n",
       "      <th>MDVP:PPQ</th>\n",
       "      <th>Jitter:DDP</th>\n",
       "      <th>MDVP:Shimmer</th>\n",
       "      <th>MDVP:Shimmer(dB)</th>\n",
       "      <th>Shimmer:APQ3</th>\n",
       "      <th>Shimmer:APQ5</th>\n",
       "      <th>MDVP:APQ</th>\n",
       "      <th>Shimmer:DDA</th>\n",
       "      <th>NHR</th>\n",
       "      <th>HNR</th>\n",
       "      <th>status</th>\n",
       "      <th>RPDE</th>\n",
       "      <th>DFA</th>\n",
       "      <th>spread1</th>\n",
       "      <th>spread2</th>\n",
       "      <th>D2</th>\n",
       "      <th>PPE</th>\n",
       "    </tr>\n",
       "  </thead>\n",
       "  <tbody>\n",
       "    <tr>\n",
       "      <th>0</th>\n",
       "      <td>0.00784</td>\n",
       "      <td>0.00007</td>\n",
       "      <td>0.00370</td>\n",
       "      <td>0.00554</td>\n",
       "      <td>0.01109</td>\n",
       "      <td>0.04374</td>\n",
       "      <td>0.426</td>\n",
       "      <td>0.02182</td>\n",
       "      <td>0.03130</td>\n",
       "      <td>0.02971</td>\n",
       "      <td>0.06545</td>\n",
       "      <td>0.02211</td>\n",
       "      <td>21.033</td>\n",
       "      <td>1</td>\n",
       "      <td>0.414783</td>\n",
       "      <td>0.815285</td>\n",
       "      <td>-4.813031</td>\n",
       "      <td>0.266482</td>\n",
       "      <td>2.301442</td>\n",
       "      <td>0.284654</td>\n",
       "    </tr>\n",
       "    <tr>\n",
       "      <th>1</th>\n",
       "      <td>0.00968</td>\n",
       "      <td>0.00008</td>\n",
       "      <td>0.00465</td>\n",
       "      <td>0.00696</td>\n",
       "      <td>0.01394</td>\n",
       "      <td>0.06134</td>\n",
       "      <td>0.626</td>\n",
       "      <td>0.03134</td>\n",
       "      <td>0.04518</td>\n",
       "      <td>0.04368</td>\n",
       "      <td>0.09403</td>\n",
       "      <td>0.01929</td>\n",
       "      <td>19.085</td>\n",
       "      <td>1</td>\n",
       "      <td>0.458359</td>\n",
       "      <td>0.819521</td>\n",
       "      <td>-4.075192</td>\n",
       "      <td>0.335590</td>\n",
       "      <td>2.486855</td>\n",
       "      <td>0.368674</td>\n",
       "    </tr>\n",
       "  </tbody>\n",
       "</table>\n",
       "</div>"
      ],
      "text/plain": [
       "   MDVP:Jitter(%)  MDVP:Jitter(Abs)  MDVP:RAP  MDVP:PPQ  Jitter:DDP  \\\n",
       "0         0.00784           0.00007   0.00370   0.00554     0.01109   \n",
       "1         0.00968           0.00008   0.00465   0.00696     0.01394   \n",
       "\n",
       "   MDVP:Shimmer  MDVP:Shimmer(dB)  Shimmer:APQ3  Shimmer:APQ5  MDVP:APQ  \\\n",
       "0       0.04374             0.426       0.02182       0.03130   0.02971   \n",
       "1       0.06134             0.626       0.03134       0.04518   0.04368   \n",
       "\n",
       "   Shimmer:DDA      NHR     HNR  status      RPDE       DFA   spread1  \\\n",
       "0      0.06545  0.02211  21.033       1  0.414783  0.815285 -4.813031   \n",
       "1      0.09403  0.01929  19.085       1  0.458359  0.819521 -4.075192   \n",
       "\n",
       "    spread2        D2       PPE  \n",
       "0  0.266482  2.301442  0.284654  \n",
       "1  0.335590  2.486855  0.368674  "
      ]
     },
     "execution_count": 10,
     "metadata": {},
     "output_type": "execute_result"
    }
   ],
   "source": [
    "df1 = df.drop_duplicates().drop('name',axis=1).drop('MDVP:Fo(Hz)', axis=1).drop('MDVP:Fhi(Hz)', axis=1).drop('MDVP:Flo(Hz)',axis=1)\n",
    "\n",
    "print(df1.shape)\n",
    "df1.head(2)"
   ]
  },
  {
   "cell_type": "code",
   "execution_count": 11,
   "id": "e9b111f1",
   "metadata": {},
   "outputs": [],
   "source": [
    "## Reshuffeling the data"
   ]
  },
  {
   "cell_type": "code",
   "execution_count": 12,
   "id": "hHSU9L3H7rCC",
   "metadata": {
    "id": "hHSU9L3H7rCC"
   },
   "outputs": [],
   "source": [
    "df1 = df1.sample(frac=1).reset_index(drop=True)"
   ]
  },
  {
   "cell_type": "code",
   "execution_count": 13,
   "id": "fb8f1a25",
   "metadata": {},
   "outputs": [],
   "source": [
    "## Creating inputs and labels"
   ]
  },
  {
   "cell_type": "code",
   "execution_count": 14,
   "id": "bacecb22",
   "metadata": {
    "id": "bacecb22"
   },
   "outputs": [],
   "source": [
    "X = df1.loc[:, df1.columns!='status']\n"
   ]
  },
  {
   "cell_type": "code",
   "execution_count": 15,
   "id": "0408bfa1",
   "metadata": {
    "colab": {
     "base_uri": "https://localhost:8080/",
     "height": 488
    },
    "id": "0408bfa1",
    "outputId": "eccc2ba5-9cb6-4023-a912-e8c9d81a8b3e"
   },
   "outputs": [
    {
     "data": {
      "text/html": [
       "<div>\n",
       "<style scoped>\n",
       "    .dataframe tbody tr th:only-of-type {\n",
       "        vertical-align: middle;\n",
       "    }\n",
       "\n",
       "    .dataframe tbody tr th {\n",
       "        vertical-align: top;\n",
       "    }\n",
       "\n",
       "    .dataframe thead th {\n",
       "        text-align: right;\n",
       "    }\n",
       "</style>\n",
       "<table border=\"1\" class=\"dataframe\">\n",
       "  <thead>\n",
       "    <tr style=\"text-align: right;\">\n",
       "      <th></th>\n",
       "      <th>MDVP:Jitter(%)</th>\n",
       "      <th>MDVP:Jitter(Abs)</th>\n",
       "      <th>MDVP:RAP</th>\n",
       "      <th>MDVP:PPQ</th>\n",
       "      <th>Jitter:DDP</th>\n",
       "      <th>MDVP:Shimmer</th>\n",
       "      <th>MDVP:Shimmer(dB)</th>\n",
       "      <th>Shimmer:APQ3</th>\n",
       "      <th>Shimmer:APQ5</th>\n",
       "      <th>MDVP:APQ</th>\n",
       "      <th>Shimmer:DDA</th>\n",
       "      <th>NHR</th>\n",
       "      <th>HNR</th>\n",
       "      <th>RPDE</th>\n",
       "      <th>DFA</th>\n",
       "      <th>spread1</th>\n",
       "      <th>spread2</th>\n",
       "      <th>D2</th>\n",
       "      <th>PPE</th>\n",
       "    </tr>\n",
       "  </thead>\n",
       "  <tbody>\n",
       "    <tr>\n",
       "      <th>0</th>\n",
       "      <td>0.00205</td>\n",
       "      <td>0.000009</td>\n",
       "      <td>0.00114</td>\n",
       "      <td>0.00113</td>\n",
       "      <td>0.00342</td>\n",
       "      <td>0.01457</td>\n",
       "      <td>0.129</td>\n",
       "      <td>0.00769</td>\n",
       "      <td>0.00957</td>\n",
       "      <td>0.01016</td>\n",
       "      <td>0.02308</td>\n",
       "      <td>0.00300</td>\n",
       "      <td>26.415</td>\n",
       "      <td>0.276850</td>\n",
       "      <td>0.673636</td>\n",
       "      <td>-7.496264</td>\n",
       "      <td>0.056844</td>\n",
       "      <td>2.003032</td>\n",
       "      <td>0.073581</td>\n",
       "    </tr>\n",
       "    <tr>\n",
       "      <th>1</th>\n",
       "      <td>0.00733</td>\n",
       "      <td>0.000050</td>\n",
       "      <td>0.00414</td>\n",
       "      <td>0.00422</td>\n",
       "      <td>0.01242</td>\n",
       "      <td>0.02362</td>\n",
       "      <td>0.233</td>\n",
       "      <td>0.01235</td>\n",
       "      <td>0.01495</td>\n",
       "      <td>0.01944</td>\n",
       "      <td>0.03706</td>\n",
       "      <td>0.01874</td>\n",
       "      <td>18.857</td>\n",
       "      <td>0.637518</td>\n",
       "      <td>0.735546</td>\n",
       "      <td>-5.594275</td>\n",
       "      <td>0.127950</td>\n",
       "      <td>1.765957</td>\n",
       "      <td>0.222716</td>\n",
       "    </tr>\n",
       "    <tr>\n",
       "      <th>2</th>\n",
       "      <td>0.00971</td>\n",
       "      <td>0.000070</td>\n",
       "      <td>0.00534</td>\n",
       "      <td>0.00478</td>\n",
       "      <td>0.01601</td>\n",
       "      <td>0.04978</td>\n",
       "      <td>0.483</td>\n",
       "      <td>0.02749</td>\n",
       "      <td>0.02466</td>\n",
       "      <td>0.03736</td>\n",
       "      <td>0.08247</td>\n",
       "      <td>0.03361</td>\n",
       "      <td>18.570</td>\n",
       "      <td>0.543299</td>\n",
       "      <td>0.733232</td>\n",
       "      <td>-5.207985</td>\n",
       "      <td>0.224852</td>\n",
       "      <td>2.642276</td>\n",
       "      <td>0.242981</td>\n",
       "    </tr>\n",
       "    <tr>\n",
       "      <th>3</th>\n",
       "      <td>0.00495</td>\n",
       "      <td>0.000020</td>\n",
       "      <td>0.00302</td>\n",
       "      <td>0.00246</td>\n",
       "      <td>0.00905</td>\n",
       "      <td>0.02105</td>\n",
       "      <td>0.209</td>\n",
       "      <td>0.01107</td>\n",
       "      <td>0.01284</td>\n",
       "      <td>0.01604</td>\n",
       "      <td>0.03320</td>\n",
       "      <td>0.01048</td>\n",
       "      <td>21.864</td>\n",
       "      <td>0.331508</td>\n",
       "      <td>0.715121</td>\n",
       "      <td>-6.729713</td>\n",
       "      <td>0.181701</td>\n",
       "      <td>2.938114</td>\n",
       "      <td>0.115515</td>\n",
       "    </tr>\n",
       "    <tr>\n",
       "      <th>4</th>\n",
       "      <td>0.01719</td>\n",
       "      <td>0.000090</td>\n",
       "      <td>0.00996</td>\n",
       "      <td>0.01027</td>\n",
       "      <td>0.02987</td>\n",
       "      <td>0.07118</td>\n",
       "      <td>0.722</td>\n",
       "      <td>0.03474</td>\n",
       "      <td>0.04580</td>\n",
       "      <td>0.06824</td>\n",
       "      <td>0.10422</td>\n",
       "      <td>0.08069</td>\n",
       "      <td>12.298</td>\n",
       "      <td>0.552870</td>\n",
       "      <td>0.764036</td>\n",
       "      <td>-3.377325</td>\n",
       "      <td>0.335357</td>\n",
       "      <td>3.274865</td>\n",
       "      <td>0.418646</td>\n",
       "    </tr>\n",
       "    <tr>\n",
       "      <th>...</th>\n",
       "      <td>...</td>\n",
       "      <td>...</td>\n",
       "      <td>...</td>\n",
       "      <td>...</td>\n",
       "      <td>...</td>\n",
       "      <td>...</td>\n",
       "      <td>...</td>\n",
       "      <td>...</td>\n",
       "      <td>...</td>\n",
       "      <td>...</td>\n",
       "      <td>...</td>\n",
       "      <td>...</td>\n",
       "      <td>...</td>\n",
       "      <td>...</td>\n",
       "      <td>...</td>\n",
       "      <td>...</td>\n",
       "      <td>...</td>\n",
       "      <td>...</td>\n",
       "      <td>...</td>\n",
       "    </tr>\n",
       "    <tr>\n",
       "      <th>190</th>\n",
       "      <td>0.00968</td>\n",
       "      <td>0.000080</td>\n",
       "      <td>0.00465</td>\n",
       "      <td>0.00696</td>\n",
       "      <td>0.01394</td>\n",
       "      <td>0.06134</td>\n",
       "      <td>0.626</td>\n",
       "      <td>0.03134</td>\n",
       "      <td>0.04518</td>\n",
       "      <td>0.04368</td>\n",
       "      <td>0.09403</td>\n",
       "      <td>0.01929</td>\n",
       "      <td>19.085</td>\n",
       "      <td>0.458359</td>\n",
       "      <td>0.819521</td>\n",
       "      <td>-4.075192</td>\n",
       "      <td>0.335590</td>\n",
       "      <td>2.486855</td>\n",
       "      <td>0.368674</td>\n",
       "    </tr>\n",
       "    <tr>\n",
       "      <th>191</th>\n",
       "      <td>0.00761</td>\n",
       "      <td>0.000070</td>\n",
       "      <td>0.00349</td>\n",
       "      <td>0.00486</td>\n",
       "      <td>0.01046</td>\n",
       "      <td>0.02719</td>\n",
       "      <td>0.255</td>\n",
       "      <td>0.01483</td>\n",
       "      <td>0.01609</td>\n",
       "      <td>0.02067</td>\n",
       "      <td>0.04450</td>\n",
       "      <td>0.01036</td>\n",
       "      <td>21.028</td>\n",
       "      <td>0.536009</td>\n",
       "      <td>0.819032</td>\n",
       "      <td>-4.649573</td>\n",
       "      <td>0.205558</td>\n",
       "      <td>1.986899</td>\n",
       "      <td>0.316700</td>\n",
       "    </tr>\n",
       "    <tr>\n",
       "      <th>192</th>\n",
       "      <td>0.00168</td>\n",
       "      <td>0.000010</td>\n",
       "      <td>0.00068</td>\n",
       "      <td>0.00092</td>\n",
       "      <td>0.00204</td>\n",
       "      <td>0.01064</td>\n",
       "      <td>0.097</td>\n",
       "      <td>0.00522</td>\n",
       "      <td>0.00632</td>\n",
       "      <td>0.00928</td>\n",
       "      <td>0.01567</td>\n",
       "      <td>0.00233</td>\n",
       "      <td>29.746</td>\n",
       "      <td>0.334171</td>\n",
       "      <td>0.677930</td>\n",
       "      <td>-6.981201</td>\n",
       "      <td>0.184550</td>\n",
       "      <td>2.129924</td>\n",
       "      <td>0.106802</td>\n",
       "    </tr>\n",
       "    <tr>\n",
       "      <th>193</th>\n",
       "      <td>0.00923</td>\n",
       "      <td>0.000070</td>\n",
       "      <td>0.00507</td>\n",
       "      <td>0.00463</td>\n",
       "      <td>0.01520</td>\n",
       "      <td>0.03111</td>\n",
       "      <td>0.308</td>\n",
       "      <td>0.01638</td>\n",
       "      <td>0.01759</td>\n",
       "      <td>0.02603</td>\n",
       "      <td>0.04914</td>\n",
       "      <td>0.02659</td>\n",
       "      <td>19.979</td>\n",
       "      <td>0.498133</td>\n",
       "      <td>0.729067</td>\n",
       "      <td>-5.324574</td>\n",
       "      <td>0.205660</td>\n",
       "      <td>2.291558</td>\n",
       "      <td>0.226247</td>\n",
       "    </tr>\n",
       "    <tr>\n",
       "      <th>194</th>\n",
       "      <td>0.01280</td>\n",
       "      <td>0.000100</td>\n",
       "      <td>0.00743</td>\n",
       "      <td>0.00623</td>\n",
       "      <td>0.02228</td>\n",
       "      <td>0.03886</td>\n",
       "      <td>0.342</td>\n",
       "      <td>0.02135</td>\n",
       "      <td>0.02174</td>\n",
       "      <td>0.03088</td>\n",
       "      <td>0.06406</td>\n",
       "      <td>0.08151</td>\n",
       "      <td>15.338</td>\n",
       "      <td>0.629574</td>\n",
       "      <td>0.714485</td>\n",
       "      <td>-4.020042</td>\n",
       "      <td>0.265315</td>\n",
       "      <td>2.671825</td>\n",
       "      <td>0.340623</td>\n",
       "    </tr>\n",
       "  </tbody>\n",
       "</table>\n",
       "<p>195 rows × 19 columns</p>\n",
       "</div>"
      ],
      "text/plain": [
       "     MDVP:Jitter(%)  MDVP:Jitter(Abs)  MDVP:RAP  MDVP:PPQ  Jitter:DDP  \\\n",
       "0           0.00205          0.000009   0.00114   0.00113     0.00342   \n",
       "1           0.00733          0.000050   0.00414   0.00422     0.01242   \n",
       "2           0.00971          0.000070   0.00534   0.00478     0.01601   \n",
       "3           0.00495          0.000020   0.00302   0.00246     0.00905   \n",
       "4           0.01719          0.000090   0.00996   0.01027     0.02987   \n",
       "..              ...               ...       ...       ...         ...   \n",
       "190         0.00968          0.000080   0.00465   0.00696     0.01394   \n",
       "191         0.00761          0.000070   0.00349   0.00486     0.01046   \n",
       "192         0.00168          0.000010   0.00068   0.00092     0.00204   \n",
       "193         0.00923          0.000070   0.00507   0.00463     0.01520   \n",
       "194         0.01280          0.000100   0.00743   0.00623     0.02228   \n",
       "\n",
       "     MDVP:Shimmer  MDVP:Shimmer(dB)  Shimmer:APQ3  Shimmer:APQ5  MDVP:APQ  \\\n",
       "0         0.01457             0.129       0.00769       0.00957   0.01016   \n",
       "1         0.02362             0.233       0.01235       0.01495   0.01944   \n",
       "2         0.04978             0.483       0.02749       0.02466   0.03736   \n",
       "3         0.02105             0.209       0.01107       0.01284   0.01604   \n",
       "4         0.07118             0.722       0.03474       0.04580   0.06824   \n",
       "..            ...               ...           ...           ...       ...   \n",
       "190       0.06134             0.626       0.03134       0.04518   0.04368   \n",
       "191       0.02719             0.255       0.01483       0.01609   0.02067   \n",
       "192       0.01064             0.097       0.00522       0.00632   0.00928   \n",
       "193       0.03111             0.308       0.01638       0.01759   0.02603   \n",
       "194       0.03886             0.342       0.02135       0.02174   0.03088   \n",
       "\n",
       "     Shimmer:DDA      NHR     HNR      RPDE       DFA   spread1   spread2  \\\n",
       "0        0.02308  0.00300  26.415  0.276850  0.673636 -7.496264  0.056844   \n",
       "1        0.03706  0.01874  18.857  0.637518  0.735546 -5.594275  0.127950   \n",
       "2        0.08247  0.03361  18.570  0.543299  0.733232 -5.207985  0.224852   \n",
       "3        0.03320  0.01048  21.864  0.331508  0.715121 -6.729713  0.181701   \n",
       "4        0.10422  0.08069  12.298  0.552870  0.764036 -3.377325  0.335357   \n",
       "..           ...      ...     ...       ...       ...       ...       ...   \n",
       "190      0.09403  0.01929  19.085  0.458359  0.819521 -4.075192  0.335590   \n",
       "191      0.04450  0.01036  21.028  0.536009  0.819032 -4.649573  0.205558   \n",
       "192      0.01567  0.00233  29.746  0.334171  0.677930 -6.981201  0.184550   \n",
       "193      0.04914  0.02659  19.979  0.498133  0.729067 -5.324574  0.205660   \n",
       "194      0.06406  0.08151  15.338  0.629574  0.714485 -4.020042  0.265315   \n",
       "\n",
       "           D2       PPE  \n",
       "0    2.003032  0.073581  \n",
       "1    1.765957  0.222716  \n",
       "2    2.642276  0.242981  \n",
       "3    2.938114  0.115515  \n",
       "4    3.274865  0.418646  \n",
       "..        ...       ...  \n",
       "190  2.486855  0.368674  \n",
       "191  1.986899  0.316700  \n",
       "192  2.129924  0.106802  \n",
       "193  2.291558  0.226247  \n",
       "194  2.671825  0.340623  \n",
       "\n",
       "[195 rows x 19 columns]"
      ]
     },
     "execution_count": 15,
     "metadata": {},
     "output_type": "execute_result"
    }
   ],
   "source": [
    "X"
   ]
  },
  {
   "cell_type": "code",
   "execution_count": 16,
   "id": "655dd38f",
   "metadata": {},
   "outputs": [],
   "source": [
    "import math"
   ]
  },
  {
   "cell_type": "code",
   "execution_count": 17,
   "id": "127095e6",
   "metadata": {
    "id": "127095e6"
   },
   "outputs": [],
   "source": [
    "Y = df1['status'].T"
   ]
  },
  {
   "cell_type": "code",
   "execution_count": 18,
   "id": "2c7064d8",
   "metadata": {
    "colab": {
     "base_uri": "https://localhost:8080/"
    },
    "id": "2c7064d8",
    "outputId": "5d10998a-df6c-430e-998e-21b11f96bdf4"
   },
   "outputs": [
    {
     "data": {
      "text/plain": [
       "0      0\n",
       "1      1\n",
       "2      1\n",
       "3      1\n",
       "4      1\n",
       "      ..\n",
       "190    1\n",
       "191    1\n",
       "192    1\n",
       "193    1\n",
       "194    1\n",
       "Name: status, Length: 195, dtype: int64"
      ]
     },
     "execution_count": 18,
     "metadata": {},
     "output_type": "execute_result"
    }
   ],
   "source": [
    "Y\n"
   ]
  },
  {
   "cell_type": "code",
   "execution_count": 19,
   "id": "04b2317d",
   "metadata": {},
   "outputs": [],
   "source": [
    "## Spliting the data into the Train & Test Sets "
   ]
  },
  {
   "cell_type": "code",
   "execution_count": 20,
   "id": "7c139d2d",
   "metadata": {},
   "outputs": [
    {
     "name": "stdout",
     "output_type": "stream",
     "text": [
      "Total Number of rows in train: 156\n",
      "Total Number of rows in test: 39\n"
     ]
    },
    {
     "data": {
      "text/html": [
       "<div>\n",
       "<style scoped>\n",
       "    .dataframe tbody tr th:only-of-type {\n",
       "        vertical-align: middle;\n",
       "    }\n",
       "\n",
       "    .dataframe tbody tr th {\n",
       "        vertical-align: top;\n",
       "    }\n",
       "\n",
       "    .dataframe thead th {\n",
       "        text-align: right;\n",
       "    }\n",
       "</style>\n",
       "<table border=\"1\" class=\"dataframe\">\n",
       "  <thead>\n",
       "    <tr style=\"text-align: right;\">\n",
       "      <th></th>\n",
       "      <th>MDVP:Jitter(%)</th>\n",
       "      <th>MDVP:Jitter(Abs)</th>\n",
       "      <th>MDVP:RAP</th>\n",
       "      <th>MDVP:PPQ</th>\n",
       "      <th>Jitter:DDP</th>\n",
       "      <th>MDVP:Shimmer</th>\n",
       "      <th>MDVP:Shimmer(dB)</th>\n",
       "      <th>Shimmer:APQ3</th>\n",
       "      <th>Shimmer:APQ5</th>\n",
       "      <th>MDVP:APQ</th>\n",
       "      <th>Shimmer:DDA</th>\n",
       "      <th>NHR</th>\n",
       "      <th>HNR</th>\n",
       "      <th>RPDE</th>\n",
       "      <th>DFA</th>\n",
       "      <th>spread1</th>\n",
       "      <th>spread2</th>\n",
       "      <th>D2</th>\n",
       "      <th>PPE</th>\n",
       "    </tr>\n",
       "  </thead>\n",
       "  <tbody>\n",
       "    <tr>\n",
       "      <th>0</th>\n",
       "      <td>0.00205</td>\n",
       "      <td>0.000009</td>\n",
       "      <td>0.00114</td>\n",
       "      <td>0.00113</td>\n",
       "      <td>0.00342</td>\n",
       "      <td>0.01457</td>\n",
       "      <td>0.129</td>\n",
       "      <td>0.00769</td>\n",
       "      <td>0.00957</td>\n",
       "      <td>0.01016</td>\n",
       "      <td>0.02308</td>\n",
       "      <td>0.00300</td>\n",
       "      <td>26.415</td>\n",
       "      <td>0.276850</td>\n",
       "      <td>0.673636</td>\n",
       "      <td>-7.496264</td>\n",
       "      <td>0.056844</td>\n",
       "      <td>2.003032</td>\n",
       "      <td>0.073581</td>\n",
       "    </tr>\n",
       "    <tr>\n",
       "      <th>1</th>\n",
       "      <td>0.00733</td>\n",
       "      <td>0.000050</td>\n",
       "      <td>0.00414</td>\n",
       "      <td>0.00422</td>\n",
       "      <td>0.01242</td>\n",
       "      <td>0.02362</td>\n",
       "      <td>0.233</td>\n",
       "      <td>0.01235</td>\n",
       "      <td>0.01495</td>\n",
       "      <td>0.01944</td>\n",
       "      <td>0.03706</td>\n",
       "      <td>0.01874</td>\n",
       "      <td>18.857</td>\n",
       "      <td>0.637518</td>\n",
       "      <td>0.735546</td>\n",
       "      <td>-5.594275</td>\n",
       "      <td>0.127950</td>\n",
       "      <td>1.765957</td>\n",
       "      <td>0.222716</td>\n",
       "    </tr>\n",
       "    <tr>\n",
       "      <th>2</th>\n",
       "      <td>0.00971</td>\n",
       "      <td>0.000070</td>\n",
       "      <td>0.00534</td>\n",
       "      <td>0.00478</td>\n",
       "      <td>0.01601</td>\n",
       "      <td>0.04978</td>\n",
       "      <td>0.483</td>\n",
       "      <td>0.02749</td>\n",
       "      <td>0.02466</td>\n",
       "      <td>0.03736</td>\n",
       "      <td>0.08247</td>\n",
       "      <td>0.03361</td>\n",
       "      <td>18.570</td>\n",
       "      <td>0.543299</td>\n",
       "      <td>0.733232</td>\n",
       "      <td>-5.207985</td>\n",
       "      <td>0.224852</td>\n",
       "      <td>2.642276</td>\n",
       "      <td>0.242981</td>\n",
       "    </tr>\n",
       "    <tr>\n",
       "      <th>3</th>\n",
       "      <td>0.00495</td>\n",
       "      <td>0.000020</td>\n",
       "      <td>0.00302</td>\n",
       "      <td>0.00246</td>\n",
       "      <td>0.00905</td>\n",
       "      <td>0.02105</td>\n",
       "      <td>0.209</td>\n",
       "      <td>0.01107</td>\n",
       "      <td>0.01284</td>\n",
       "      <td>0.01604</td>\n",
       "      <td>0.03320</td>\n",
       "      <td>0.01048</td>\n",
       "      <td>21.864</td>\n",
       "      <td>0.331508</td>\n",
       "      <td>0.715121</td>\n",
       "      <td>-6.729713</td>\n",
       "      <td>0.181701</td>\n",
       "      <td>2.938114</td>\n",
       "      <td>0.115515</td>\n",
       "    </tr>\n",
       "    <tr>\n",
       "      <th>4</th>\n",
       "      <td>0.01719</td>\n",
       "      <td>0.000090</td>\n",
       "      <td>0.00996</td>\n",
       "      <td>0.01027</td>\n",
       "      <td>0.02987</td>\n",
       "      <td>0.07118</td>\n",
       "      <td>0.722</td>\n",
       "      <td>0.03474</td>\n",
       "      <td>0.04580</td>\n",
       "      <td>0.06824</td>\n",
       "      <td>0.10422</td>\n",
       "      <td>0.08069</td>\n",
       "      <td>12.298</td>\n",
       "      <td>0.552870</td>\n",
       "      <td>0.764036</td>\n",
       "      <td>-3.377325</td>\n",
       "      <td>0.335357</td>\n",
       "      <td>3.274865</td>\n",
       "      <td>0.418646</td>\n",
       "    </tr>\n",
       "    <tr>\n",
       "      <th>...</th>\n",
       "      <td>...</td>\n",
       "      <td>...</td>\n",
       "      <td>...</td>\n",
       "      <td>...</td>\n",
       "      <td>...</td>\n",
       "      <td>...</td>\n",
       "      <td>...</td>\n",
       "      <td>...</td>\n",
       "      <td>...</td>\n",
       "      <td>...</td>\n",
       "      <td>...</td>\n",
       "      <td>...</td>\n",
       "      <td>...</td>\n",
       "      <td>...</td>\n",
       "      <td>...</td>\n",
       "      <td>...</td>\n",
       "      <td>...</td>\n",
       "      <td>...</td>\n",
       "      <td>...</td>\n",
       "    </tr>\n",
       "    <tr>\n",
       "      <th>151</th>\n",
       "      <td>0.01813</td>\n",
       "      <td>0.000150</td>\n",
       "      <td>0.01117</td>\n",
       "      <td>0.00718</td>\n",
       "      <td>0.03351</td>\n",
       "      <td>0.04912</td>\n",
       "      <td>0.438</td>\n",
       "      <td>0.02610</td>\n",
       "      <td>0.02161</td>\n",
       "      <td>0.02916</td>\n",
       "      <td>0.07830</td>\n",
       "      <td>0.10748</td>\n",
       "      <td>19.075</td>\n",
       "      <td>0.630547</td>\n",
       "      <td>0.646786</td>\n",
       "      <td>-3.444478</td>\n",
       "      <td>0.303214</td>\n",
       "      <td>2.964568</td>\n",
       "      <td>0.261305</td>\n",
       "    </tr>\n",
       "    <tr>\n",
       "      <th>152</th>\n",
       "      <td>0.00874</td>\n",
       "      <td>0.000080</td>\n",
       "      <td>0.00398</td>\n",
       "      <td>0.00539</td>\n",
       "      <td>0.01193</td>\n",
       "      <td>0.03209</td>\n",
       "      <td>0.307</td>\n",
       "      <td>0.01789</td>\n",
       "      <td>0.01992</td>\n",
       "      <td>0.02454</td>\n",
       "      <td>0.05368</td>\n",
       "      <td>0.01180</td>\n",
       "      <td>20.767</td>\n",
       "      <td>0.558586</td>\n",
       "      <td>0.811843</td>\n",
       "      <td>-4.333543</td>\n",
       "      <td>0.221727</td>\n",
       "      <td>2.014606</td>\n",
       "      <td>0.344834</td>\n",
       "    </tr>\n",
       "    <tr>\n",
       "      <th>153</th>\n",
       "      <td>0.00369</td>\n",
       "      <td>0.000020</td>\n",
       "      <td>0.00205</td>\n",
       "      <td>0.00218</td>\n",
       "      <td>0.00616</td>\n",
       "      <td>0.01851</td>\n",
       "      <td>0.168</td>\n",
       "      <td>0.00938</td>\n",
       "      <td>0.01160</td>\n",
       "      <td>0.01491</td>\n",
       "      <td>0.02814</td>\n",
       "      <td>0.00340</td>\n",
       "      <td>24.951</td>\n",
       "      <td>0.341435</td>\n",
       "      <td>0.783626</td>\n",
       "      <td>-6.006414</td>\n",
       "      <td>0.196371</td>\n",
       "      <td>2.536527</td>\n",
       "      <td>0.173218</td>\n",
       "    </tr>\n",
       "    <tr>\n",
       "      <th>154</th>\n",
       "      <td>0.00968</td>\n",
       "      <td>0.000080</td>\n",
       "      <td>0.00463</td>\n",
       "      <td>0.00750</td>\n",
       "      <td>0.01388</td>\n",
       "      <td>0.04701</td>\n",
       "      <td>0.456</td>\n",
       "      <td>0.02328</td>\n",
       "      <td>0.03526</td>\n",
       "      <td>0.03243</td>\n",
       "      <td>0.06985</td>\n",
       "      <td>0.01222</td>\n",
       "      <td>21.378</td>\n",
       "      <td>0.415564</td>\n",
       "      <td>0.825069</td>\n",
       "      <td>-4.242867</td>\n",
       "      <td>0.299111</td>\n",
       "      <td>2.187560</td>\n",
       "      <td>0.357775</td>\n",
       "    </tr>\n",
       "    <tr>\n",
       "      <th>155</th>\n",
       "      <td>0.00298</td>\n",
       "      <td>0.000010</td>\n",
       "      <td>0.00169</td>\n",
       "      <td>0.00182</td>\n",
       "      <td>0.00507</td>\n",
       "      <td>0.01752</td>\n",
       "      <td>0.164</td>\n",
       "      <td>0.01035</td>\n",
       "      <td>0.01024</td>\n",
       "      <td>0.01133</td>\n",
       "      <td>0.03104</td>\n",
       "      <td>0.00740</td>\n",
       "      <td>22.736</td>\n",
       "      <td>0.305062</td>\n",
       "      <td>0.654172</td>\n",
       "      <td>-7.310550</td>\n",
       "      <td>0.098648</td>\n",
       "      <td>2.416838</td>\n",
       "      <td>0.095032</td>\n",
       "    </tr>\n",
       "  </tbody>\n",
       "</table>\n",
       "<p>156 rows × 19 columns</p>\n",
       "</div>"
      ],
      "text/plain": [
       "     MDVP:Jitter(%)  MDVP:Jitter(Abs)  MDVP:RAP  MDVP:PPQ  Jitter:DDP  \\\n",
       "0           0.00205          0.000009   0.00114   0.00113     0.00342   \n",
       "1           0.00733          0.000050   0.00414   0.00422     0.01242   \n",
       "2           0.00971          0.000070   0.00534   0.00478     0.01601   \n",
       "3           0.00495          0.000020   0.00302   0.00246     0.00905   \n",
       "4           0.01719          0.000090   0.00996   0.01027     0.02987   \n",
       "..              ...               ...       ...       ...         ...   \n",
       "151         0.01813          0.000150   0.01117   0.00718     0.03351   \n",
       "152         0.00874          0.000080   0.00398   0.00539     0.01193   \n",
       "153         0.00369          0.000020   0.00205   0.00218     0.00616   \n",
       "154         0.00968          0.000080   0.00463   0.00750     0.01388   \n",
       "155         0.00298          0.000010   0.00169   0.00182     0.00507   \n",
       "\n",
       "     MDVP:Shimmer  MDVP:Shimmer(dB)  Shimmer:APQ3  Shimmer:APQ5  MDVP:APQ  \\\n",
       "0         0.01457             0.129       0.00769       0.00957   0.01016   \n",
       "1         0.02362             0.233       0.01235       0.01495   0.01944   \n",
       "2         0.04978             0.483       0.02749       0.02466   0.03736   \n",
       "3         0.02105             0.209       0.01107       0.01284   0.01604   \n",
       "4         0.07118             0.722       0.03474       0.04580   0.06824   \n",
       "..            ...               ...           ...           ...       ...   \n",
       "151       0.04912             0.438       0.02610       0.02161   0.02916   \n",
       "152       0.03209             0.307       0.01789       0.01992   0.02454   \n",
       "153       0.01851             0.168       0.00938       0.01160   0.01491   \n",
       "154       0.04701             0.456       0.02328       0.03526   0.03243   \n",
       "155       0.01752             0.164       0.01035       0.01024   0.01133   \n",
       "\n",
       "     Shimmer:DDA      NHR     HNR      RPDE       DFA   spread1   spread2  \\\n",
       "0        0.02308  0.00300  26.415  0.276850  0.673636 -7.496264  0.056844   \n",
       "1        0.03706  0.01874  18.857  0.637518  0.735546 -5.594275  0.127950   \n",
       "2        0.08247  0.03361  18.570  0.543299  0.733232 -5.207985  0.224852   \n",
       "3        0.03320  0.01048  21.864  0.331508  0.715121 -6.729713  0.181701   \n",
       "4        0.10422  0.08069  12.298  0.552870  0.764036 -3.377325  0.335357   \n",
       "..           ...      ...     ...       ...       ...       ...       ...   \n",
       "151      0.07830  0.10748  19.075  0.630547  0.646786 -3.444478  0.303214   \n",
       "152      0.05368  0.01180  20.767  0.558586  0.811843 -4.333543  0.221727   \n",
       "153      0.02814  0.00340  24.951  0.341435  0.783626 -6.006414  0.196371   \n",
       "154      0.06985  0.01222  21.378  0.415564  0.825069 -4.242867  0.299111   \n",
       "155      0.03104  0.00740  22.736  0.305062  0.654172 -7.310550  0.098648   \n",
       "\n",
       "           D2       PPE  \n",
       "0    2.003032  0.073581  \n",
       "1    1.765957  0.222716  \n",
       "2    2.642276  0.242981  \n",
       "3    2.938114  0.115515  \n",
       "4    3.274865  0.418646  \n",
       "..        ...       ...  \n",
       "151  2.964568  0.261305  \n",
       "152  2.014606  0.344834  \n",
       "153  2.536527  0.173218  \n",
       "154  2.187560  0.357775  \n",
       "155  2.416838  0.095032  \n",
       "\n",
       "[156 rows x 19 columns]"
      ]
     },
     "execution_count": 20,
     "metadata": {},
     "output_type": "execute_result"
    }
   ],
   "source": [
    "n_train = math.floor(0.8 * X.shape[0])\n",
    "n_test = math.ceil((1-0.8) * X.shape[0])\n",
    "X_train = X[:n_train]\n",
    "Y_train = Y[:n_train]\n",
    "X_test = X[n_train:]\n",
    "Y_test = Y[n_train:]\n",
    "print(\"Total Number of rows in train:\",X_train.shape[0])\n",
    "print(\"Total Number of rows in test:\",X_test.shape[0])\n",
    "X_train"
   ]
  },
  {
   "cell_type": "code",
   "execution_count": 21,
   "id": "3b2b8261",
   "metadata": {},
   "outputs": [
    {
     "data": {
      "text/plain": [
       "0      0\n",
       "1      1\n",
       "2      1\n",
       "3      1\n",
       "4      1\n",
       "      ..\n",
       "151    1\n",
       "152    1\n",
       "153    1\n",
       "154    1\n",
       "155    0\n",
       "Name: status, Length: 156, dtype: int64"
      ]
     },
     "execution_count": 21,
     "metadata": {},
     "output_type": "execute_result"
    }
   ],
   "source": [
    "Y_train"
   ]
  },
  {
   "cell_type": "code",
   "execution_count": 22,
   "id": "a302f048",
   "metadata": {},
   "outputs": [
    {
     "data": {
      "text/plain": [
       "(39, 19)"
      ]
     },
     "execution_count": 22,
     "metadata": {},
     "output_type": "execute_result"
    }
   ],
   "source": [
    "X_test\n",
    "X_test.shape"
   ]
  },
  {
   "cell_type": "code",
   "execution_count": 23,
   "id": "3eb2de10",
   "metadata": {},
   "outputs": [
    {
     "data": {
      "text/plain": [
       "156    0\n",
       "157    1\n",
       "158    0\n",
       "159    1\n",
       "160    1\n",
       "161    0\n",
       "162    1\n",
       "163    1\n",
       "164    0\n",
       "165    1\n",
       "166    1\n",
       "167    0\n",
       "168    1\n",
       "169    1\n",
       "170    1\n",
       "171    1\n",
       "172    1\n",
       "173    0\n",
       "174    1\n",
       "175    0\n",
       "176    1\n",
       "177    1\n",
       "178    1\n",
       "179    1\n",
       "180    0\n",
       "181    0\n",
       "182    1\n",
       "183    1\n",
       "184    1\n",
       "185    0\n",
       "186    1\n",
       "187    1\n",
       "188    1\n",
       "189    0\n",
       "190    1\n",
       "191    1\n",
       "192    1\n",
       "193    1\n",
       "194    1\n",
       "Name: status, dtype: int64"
      ]
     },
     "execution_count": 23,
     "metadata": {},
     "output_type": "execute_result"
    }
   ],
   "source": [
    "Y_test"
   ]
  },
  {
   "cell_type": "code",
   "execution_count": 24,
   "id": "0aa62aa1",
   "metadata": {
    "colab": {
     "base_uri": "https://localhost:8080/"
    },
    "id": "0aa62aa1",
    "outputId": "e27ff96b-b2a5-4daf-8148-1e422e66f241"
   },
   "outputs": [
    {
     "name": "stdout",
     "output_type": "stream",
     "text": [
      "   MDVP:Jitter(%)  MDVP:Jitter(Abs)  MDVP:RAP  MDVP:PPQ  Jitter:DDP  \\\n",
      "0         0.00205          0.000009   0.00114   0.00113     0.00342   \n",
      "\n",
      "   MDVP:Shimmer  MDVP:Shimmer(dB)  Shimmer:APQ3  Shimmer:APQ5  MDVP:APQ  \\\n",
      "0       0.01457             0.129       0.00769       0.00957   0.01016   \n",
      "\n",
      "   Shimmer:DDA    NHR     HNR     RPDE       DFA   spread1   spread2  \\\n",
      "0      0.02308  0.003  26.415  0.27685  0.673636 -7.496264  0.056844   \n",
      "\n",
      "         D2       PPE  \n",
      "0  2.003032  0.073581  \n"
     ]
    }
   ],
   "source": [
    "X1=X.iloc[[0]]\n",
    "print(X1)\n",
    "Y1=Y.iloc[[0]]"
   ]
  },
  {
   "cell_type": "code",
   "execution_count": 25,
   "id": "d4e79feb",
   "metadata": {
    "colab": {
     "base_uri": "https://localhost:8080/"
    },
    "id": "d4e79feb",
    "outputId": "7fac372a-ac82-49d5-9904-000e187da2cd"
   },
   "outputs": [],
   "source": [
    "## Creating a function  to implement gradient & update weights based  single row of data"
   ]
  },
  {
   "cell_type": "code",
   "execution_count": 111,
   "id": "6fcf31df",
   "metadata": {},
   "outputs": [],
   "source": [
    "lamdb = 0.01"
   ]
  },
  {
   "cell_type": "code",
   "execution_count": 272,
   "id": "fda32429",
   "metadata": {
    "id": "fda32429"
   },
   "outputs": [],
   "source": [
    "def train_single(xdata, ylabel, sw, ltype):\n",
    "        #print(\"enters train single\")\n",
    "        lr = 0.01\n",
    "        #getting output\n",
    "        '''\n",
    "        print(\"xdata\")\n",
    "        print(xdata)\n",
    "        print(\"ylabel\")\n",
    "        print(ylabel)\n",
    "        '''\n",
    "        output = getoutput(xdata,sw)\n",
    "        '''\n",
    "        print(\"output\")\n",
    "        print(output)\n",
    "        '''\n",
    "        \n",
    "        #calculating error\n",
    "        error = ylabel - output\n",
    "        '''\n",
    "        print(\"error\")\n",
    "        print(error)\n",
    "        '''\n",
    "        #print(xdata.shape)\n",
    "        single_loss, l1,l2 = loss(ylabel, output, sw)\n",
    "        #calculating the adjustment\n",
    "        \n",
    "        if ltype == \"Non\":\n",
    "            adjustment = dot(xdata.T , error * sig_grad(output))\n",
    "        elif ltype == \"L2\":\n",
    "            adjustment = dot(xdata.T , error * sig_grad(output)) + (lamdb*sw)\n",
    "        else:\n",
    "            adjustment = dot(xdata.T , error * sig_grad(output)) + (lamdb*np.abs(sw))\n",
    "            \n",
    "        #adjustment = dot(xdata.T , error)\n",
    "        '''\n",
    "        print(\"xdata.T\")\n",
    "        print(xdata.T)\n",
    "        print(\"error*sig_grad(output)\")\n",
    "        print(error * sig_grad(output))\n",
    "        print(\"adjustment\")\n",
    "        print(adjustment)\n",
    "        print(output.shape)\n",
    "        print(sig_grad(output).shape)\n",
    "        print(adjustment.shape)\n",
    "        print(synaptic_weights.shape)\n",
    "        '''\n",
    "        \n",
    "        '''\n",
    "        print(\"single_loss\")\n",
    "        print(single_loss)\n",
    "        '''\n",
    "        sw -= 0.01 * adjustment\n",
    "        return sw, single_loss, l1, l2"
   ]
  },
  {
   "cell_type": "code",
   "execution_count": 273,
   "id": "dd385c9d",
   "metadata": {},
   "outputs": [],
   "source": [
    "## Creating a function  to train and iterate through all the  rows of data"
   ]
  },
  {
   "cell_type": "code",
   "execution_count": 274,
   "id": "1f50f08b",
   "metadata": {
    "id": "1f50f08b"
   },
   "outputs": [],
   "source": [
    "def train(xdata, ylabel, length, iterations, sw, ltype):\n",
    "    losses = []\n",
    "    l1_losses = []\n",
    "    l2_losses = []\n",
    "    print(\"enters train\")\n",
    "    for j in range(iterations):\n",
    "        loss = 0\n",
    "        l1_loss = 0\n",
    "        l2_loss = 0\n",
    "        if j % 100 == 0:\n",
    "            print(\"Iteration number: \" + str(j))\n",
    "        for i in range(length):\n",
    "            x1 = xdata.iloc[[i]]\n",
    "            y1 = ylabel.iloc[[i]]\n",
    "            #print(x1.shape)\n",
    "            #print(y1.shape)\n",
    "            sw, sl,l1,l2 = train_single(x1.to_numpy(), y1.to_numpy().T, sw, ltype)\n",
    "            loss = loss + sl\n",
    "            l1_loss = l1_loss + l1\n",
    "            l2_loss = l2_loss + l2\n",
    "            #print(\"Loss: \" + str(sl))\n",
    "        #print(\"Average L2 Loss: \" + str(l2_loss / length))\n",
    "        losses.append(loss[0,0] / length)\n",
    "        l1_losses.append(l1_loss / length)\n",
    "        l2_losses.append(l2_loss / length)\n",
    "    return sw, losses, l1_losses, l2_losses"
   ]
  },
  {
   "cell_type": "code",
   "execution_count": 275,
   "id": "a74dcfc9",
   "metadata": {},
   "outputs": [],
   "source": [
    "## Creating a function  to get output with sigmoid function"
   ]
  },
  {
   "cell_type": "code",
   "execution_count": 276,
   "id": "a70e01d5",
   "metadata": {
    "id": "a70e01d5"
   },
   "outputs": [],
   "source": [
    "def getoutput(inputs,sw):\n",
    "    \n",
    "\n",
    "    y1 = dot(inputs, sw)\n",
    "    return sigmoid(y1)\n",
    "    "
   ]
  },
  {
   "cell_type": "code",
   "execution_count": 277,
   "id": "dffd4c90",
   "metadata": {},
   "outputs": [],
   "source": [
    "## Creating sigmoid function"
   ]
  },
  {
   "cell_type": "code",
   "execution_count": 278,
   "id": "3b551c9e",
   "metadata": {
    "id": "3b551c9e"
   },
   "outputs": [],
   "source": [
    "def sigmoid(x):\n",
    "\t#print(x)\n",
    "\treturn 1 / (1 + exp(-x))"
   ]
  },
  {
   "cell_type": "code",
   "execution_count": 260,
   "id": "fcf2e328",
   "metadata": {},
   "outputs": [],
   "source": [
    "## Creating sig-grad function"
   ]
  },
  {
   "cell_type": "code",
   "execution_count": 261,
   "id": "f4d79541",
   "metadata": {
    "id": "f4d79541"
   },
   "outputs": [],
   "source": [
    "def sig_grad(x):\n",
    "        return x * (1 - x)"
   ]
  },
  {
   "cell_type": "code",
   "execution_count": 262,
   "id": "j9HdcskA1sKp",
   "metadata": {
    "id": "j9HdcskA1sKp"
   },
   "outputs": [],
   "source": [
    "import math"
   ]
  },
  {
   "cell_type": "code",
   "execution_count": 263,
   "id": "f01cfc08",
   "metadata": {},
   "outputs": [],
   "source": [
    "## Creating Log Loss function along with L1 & L2 Regularization "
   ]
  },
  {
   "cell_type": "code",
   "execution_count": 264,
   "id": "HWb_UBkhwTnJ",
   "metadata": {
    "id": "HWb_UBkhwTnJ"
   },
   "outputs": [],
   "source": [
    "def loss(y, y_hat, sw):\n",
    "  #print(y.shape)\n",
    "  #print(y)\n",
    "  #print(y_hat.shape)\n",
    "  #print(y_hat)\n",
    "    a = y[0]\n",
    "    a_hat = y_hat[0,0]\n",
    "    loss = -y * np.log(y_hat) + (1 - y) * np.log(1 - y_hat)\n",
    "    l2 = (lamdb/2)*np.sum(np.square(sw))\n",
    "    l1 = (lamdb/2)*np.sum(sw)\n",
    "    return loss,l1,l2\n",
    "    "
   ]
  },
  {
   "cell_type": "code",
   "execution_count": 265,
   "id": "ab0b7437",
   "metadata": {},
   "outputs": [],
   "source": [
    "## Creating a test function to get confusion matrix, Precison, Recall , Accuracy & F-1 Score "
   ]
  },
  {
   "cell_type": "code",
   "execution_count": 266,
   "id": "49ce62c8",
   "metadata": {
    "id": "49ce62c8"
   },
   "outputs": [],
   "source": [
    "def test(xdata, ylabel, length, synaptic_weights):\n",
    "    count_total = 0\n",
    "    count_correct = 0\n",
    "    #label 1 is positive, label 0 is negative\n",
    "    true_positive = 0\n",
    "    false_positive = 0\n",
    "    true_negative = 0    \n",
    "    false_negative = 0\n",
    "    \n",
    "    \n",
    "    for i in range(length):\n",
    "        x1 = X.iloc[[i]]\n",
    "        y1 = Y.iloc[[i]]\n",
    "        output = getoutput(x1.to_numpy(), synaptic_weights)\n",
    "        label = y1.to_numpy().T\n",
    "        #print(\"output\")\n",
    "        #print(output)\n",
    "        #print(\"label\")\n",
    "        #print(label)\n",
    "        if output < 0.5:\n",
    "            output = 0 \n",
    "        else:\n",
    "            output = 1\n",
    "        \n",
    "        if output == label:\n",
    "            count_correct = count_correct + 1\n",
    "        \n",
    "        if output == 0 and label == 0:\n",
    "            true_negative = true_negative + 1\n",
    "            \n",
    "        if output == 0 and label == 1:\n",
    "            false_negative = false_negative + 1\n",
    "            \n",
    "        if output == 1 and label == 1:\n",
    "            true_positive = true_positive + 1\n",
    "            \n",
    "        if output == 1 and label == 0:\n",
    "            false_positive = false_positive + 1\n",
    "            \n",
    "        count_total = count_total + 1\n",
    "        \n",
    "    precision = true_positive / (true_positive + false_positive)\n",
    "    recall = true_positive / (true_positive + false_negative)\n",
    "    f1_score = (2 * precision * recall) / (precision + recall)\n",
    "    accuracy = count_correct/count_total\n",
    "        \n",
    "    print('Accuracy is ' + str(accuracy))\n",
    "    print( 'f1-score is '+ str(f1_score))\n",
    "    "
   ]
  },
  {
   "cell_type": "code",
   "execution_count": 250,
   "id": "325e5433",
   "metadata": {},
   "outputs": [],
   "source": [
    "##Generating random weights for the 1st layer , training the Logical Regrssion Unit ( LRU1 ) without regularization"
   ]
  },
  {
   "cell_type": "code",
   "execution_count": 267,
   "id": "d5bfca13",
   "metadata": {
    "colab": {
     "base_uri": "https://localhost:8080/"
    },
    "id": "d5bfca13",
    "outputId": "bf5b94dc-30d5-460a-decd-4893fcdf82b2"
   },
   "outputs": [
    {
     "name": "stdout",
     "output_type": "stream",
     "text": [
      "enters train\n",
      "Iteration number: 0\n",
      "Train Dataset\n",
      "Accuracy is 0.7538461538461538\n",
      "f1-score is 0.8596491228070176\n"
     ]
    },
    {
     "data": {
      "image/png": "[encoded data removed]",
      "text/plain": [
       "<Figure size 432x288 with 1 Axes>"
      ]
     },
     "metadata": {
      "needs_background": "light"
     },
     "output_type": "display_data"
    },
    {
     "name": "stdout",
     "output_type": "stream",
     "text": [
      "Test Dataset\n",
      "Accuracy is 0.7948717948717948\n",
      "f1-score is 0.8857142857142858\n"
     ]
    }
   ],
   "source": [
    "synaptic_weights = random.rand(19,1)\n",
    "#print(\"synaptic_weights\")\n",
    "#print(synaptic_weights)\n",
    "LRU1, losses, _, _ = train(X_train, Y_train, 156, 100, synaptic_weights, \"Non\")\n",
    "print(\"Train Dataset\")\n",
    "test(X_train, Y_train, 195, synaptic_weights)\n",
    "plt.plot(losses)\n",
    "plt.show()\n",
    "print(\"Test Dataset\")\n",
    "test(X_test, Y_test, 39, LRU1)"
   ]
  },
  {
   "cell_type": "code",
   "execution_count": 279,
   "id": "4781d2c3",
   "metadata": {},
   "outputs": [
    {
     "name": "stdout",
     "output_type": "stream",
     "text": [
      "enters train\n",
      "Iteration number: 0\n",
      "Train Accuracy\n",
      "Accuracy is 0.7538461538461538\n",
      "f1-score is 0.8596491228070176\n"
     ]
    },
    {
     "data": {
      "image/png": "[encoded data removed]",
      "text/plain": [
       "<Figure size 432x288 with 1 Axes>"
      ]
     },
     "metadata": {
      "needs_background": "light"
     },
     "output_type": "display_data"
    },
    {
     "name": "stdout",
     "output_type": "stream",
     "text": [
      "Test Dataset\n",
      "Accuracy is 0.7948717948717948\n",
      "f1-score is 0.8857142857142858\n"
     ]
    }
   ],
   "source": [
    "##Generating random weights for the 1st layer , training the Logical Regrssion Unit ( LRU1 ) with L1 regularization\n",
    "synaptic_weights = random.rand(19,1)\n",
    "LRU1, _, l1_losses, _ = train(X_train, Y_train, 156, 100, synaptic_weights, \"L1\")\n",
    "print(\"Train Accuracy\")\n",
    "test(X_train, Y_train, 195, synaptic_weights)\n",
    "plt.plot(l1_losses)\n",
    "plt.show()\n",
    "print(\"Test Dataset\")\n",
    "test(X_test, Y_test, 39, LRU1)"
   ]
  },
  {
   "cell_type": "code",
   "execution_count": 269,
   "id": "38c9525a",
   "metadata": {},
   "outputs": [
    {
     "name": "stdout",
     "output_type": "stream",
     "text": [
      "enters train\n",
      "Iteration number: 0\n",
      "Train Accuracy\n",
      "Accuracy is 0.7538461538461538\n",
      "f1-score is 0.8596491228070176\n"
     ]
    },
    {
     "data": {
      "image/png": "[encoded data removed]",
      "text/plain": [
       "<Figure size 432x288 with 1 Axes>"
      ]
     },
     "metadata": {
      "needs_background": "light"
     },
     "output_type": "display_data"
    },
    {
     "name": "stdout",
     "output_type": "stream",
     "text": [
      "Test Dataset\n",
      "Accuracy is 0.7948717948717948\n",
      "f1-score is 0.8857142857142858\n"
     ]
    }
   ],
   "source": [
    "##Generating random weights for the 1st layer , training the Logical Regrssion Unit ( LRU1 ) with L2 regularization\n",
    "synaptic_weights = random.rand(19,1)\n",
    "LRU1, _, _, l2_losses = train(X_train, Y_train, 156, 100, synaptic_weights, \"L2\")\n",
    "print(\"Train Accuracy\")\n",
    "test(X_train, Y_train, 195, synaptic_weights)\n",
    "plt.plot(l2_losses)\n",
    "plt.show()\n",
    "print(\"Test Dataset\")\n",
    "test(X_test, Y_test, 39, LRU1)"
   ]
  },
  {
   "cell_type": "code",
   "execution_count": 45,
   "id": "f64bfe11",
   "metadata": {},
   "outputs": [],
   "source": [
    "##Re-creating LRU1 as LRU2  with ReLU Function"
   ]
  },
  {
   "cell_type": "code",
   "execution_count": 46,
   "id": "540e94b6",
   "metadata": {},
   "outputs": [],
   "source": [
    "def ReLU(x):\n",
    "    if x > 0:\n",
    "        #print(x.shape)\n",
    "        return x\n",
    "    else:\n",
    "        return np.zeros((1,1))\n",
    "    \n",
    "    #return x * (x > 0)"
   ]
  },
  {
   "cell_type": "code",
   "execution_count": 47,
   "id": "f0735f87",
   "metadata": {},
   "outputs": [],
   "source": [
    "def ReLU_grad(x):\n",
    "    if x > 0:\n",
    "        return 1\n",
    "    else:\n",
    "        return 0.05\n",
    "    "
   ]
  },
  {
   "cell_type": "code",
   "execution_count": 48,
   "id": "5d59deea",
   "metadata": {},
   "outputs": [],
   "source": [
    "def getoutput2(inputs,sw):\n",
    "    #print(inputs)\n",
    "    #print(synaptic_weights)\n",
    "    y1 = dot(inputs, sw)\n",
    "    #print(y1.shape)\n",
    "    return sigmoid(ReLU(y1))"
   ]
  },
  {
   "cell_type": "code",
   "execution_count": 49,
   "id": "42966b0d",
   "metadata": {},
   "outputs": [],
   "source": [
    "def train2(xdata, ylabel, length, iterations, sw):\n",
    "    losses = []\n",
    "    for j in range(iterations):\n",
    "        loss = 0\n",
    "        if j % 100 == 0:\n",
    "            print(\"Iteration number: \" + str(j))\n",
    "        for i in range(length):\n",
    "            x1 = xdata.iloc[[i]]\n",
    "            y1 = ylabel.iloc[[i]]\n",
    "            sw, sl = train_single2(x1.to_numpy(), y1.to_numpy().T, sw)\n",
    "            loss = loss + sl\n",
    "        losses.append(loss / length)\n",
    "    return sw, losses"
   ]
  },
  {
   "cell_type": "code",
   "execution_count": 50,
   "id": "11296e05",
   "metadata": {},
   "outputs": [],
   "source": [
    "def train_single2(xdata, ylabel, sw):\n",
    "        lr = 0.01\n",
    "        #getting output\n",
    "        output = getoutput2(xdata,sw)\n",
    "        #print(output)\n",
    "\n",
    "        #calculating error\n",
    "        error = ylabel - output\n",
    "        #print(error)\n",
    "        #print(xdata.shape)\n",
    "        \n",
    "\n",
    "        #calculating the adjustment\n",
    "        adjustment = dot(xdata.T , error * output)\n",
    "        #print(output.shape)\n",
    "        #print(sig_grad(output).shape)\n",
    "        #print(adjustment.shape)\n",
    "        #print(synaptic_weights.shape)\n",
    "        single_loss = loss2(ylabel, output)\n",
    "\n",
    "        sw += 0.01* adjustment\n",
    "        return sw, single_loss"
   ]
  },
  {
   "cell_type": "code",
   "execution_count": 51,
   "id": "04df17c8",
   "metadata": {},
   "outputs": [],
   "source": [
    "def loss2(y, y_hat):\n",
    "  #print(y.shape)\n",
    "  #print(y)\n",
    "  #print(y_hat.shape)\n",
    "    if y_hat < 0.01:\n",
    "        print(y_hat)\n",
    "    loss2 = -y * np.log(y_hat) + (1 - y) * np.log(1 - y_hat)\n",
    "    return loss2"
   ]
  },
  {
   "cell_type": "code",
   "execution_count": 52,
   "id": "2568ef7f",
   "metadata": {},
   "outputs": [],
   "source": [
    "#synaptic_weights = random.rand(19,1)\n",
    "#LRU2, losses = train2(X_train, Y_train, 156, 1, synaptic_weights)\n",
    "#test(X_test, Y_test, 39, LRU2)"
   ]
  },
  {
   "cell_type": "code",
   "execution_count": 53,
   "id": "f83191d0",
   "metadata": {},
   "outputs": [
    {
     "name": "stdout",
     "output_type": "stream",
     "text": [
      "Iteration number: 0\n",
      "Iteration number: 100\n",
      "Iteration number: 200\n",
      "Accuracy is 0.6666666666666666\n",
      "f1-score is 0.7450980392156863\n"
     ]
    }
   ],
   "source": [
    "synaptic_weights = random.rand(19,1)\n",
    "LRU2, losses = train2(X_train, Y_train, 156, 300, synaptic_weights)\n",
    "test(X_test, Y_test, 39, LRU2)"
   ]
  },
  {
   "cell_type": "code",
   "execution_count": null,
   "id": "7920ce1f",
   "metadata": {},
   "outputs": [],
   "source": []
  },
  {
   "cell_type": "code",
   "execution_count": 465,
   "id": "ed217cd9",
   "metadata": {},
   "outputs": [],
   "source": [
    "# To do the regularization using the L1 (Lasso) method and L2 (Ridge) method , \n",
    "# we will add a term to the loss function above as , \n",
    "# For L1  \" This is Lambda times sum of  modulo  of weights \" \n",
    "# For L2   \"This is lambda times sum of the squares of the weights\"\n",
    "# We will also need to update the  gradient of the loss function to inculde this terms.\n",
    "#Implented the same in LRU1"
   ]
  },
  {
   "cell_type": "code",
   "execution_count": null,
   "id": "ffaa3369",
   "metadata": {},
   "outputs": [],
   "source": []
  }
 ],
 "metadata": {
  "colab": {
   "collapsed_sections": [],
   "name": "INFO 7390 Assignment 1 (1).ipynb",
   "provenance": []
  },
  "kernelspec": {
   "display_name": "Python 3 (ipykernel)",
   "language": "python",
   "name": "python3"
  },
  "language_info": {
   "codemirror_mode": {
    "name": "ipython",
    "version": 3
   },
   "file_extension": ".py",
   "mimetype": "text/x-python",
   "name": "python",
   "nbconvert_exporter": "python",
   "pygments_lexer": "ipython3",
   "version": "3.9.7"
  }
 },
 "nbformat": 4,
 "nbformat_minor": 5
}
